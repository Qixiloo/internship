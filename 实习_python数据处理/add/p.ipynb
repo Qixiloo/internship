{
 "cells": [
  {
   "cell_type": "code",
   "execution_count": 8,
   "metadata": {},
   "outputs": [],
   "source": [
    "import pandas as pd\n",
    "\n",
    "df = pd.read_excel('manager.xlsx')\n",
    "\n",
    "df['DeclareDate'] = df['DeclareDate'].astype(str).str[:4]\n",
    "df = df.drop_duplicates(subset=['StockId', 'DeclareDate'])\n",
    "\n",
    "\n",
    "\n",
    "df.to_excel('./output/manager.xlsx', index=False)\n",
    "\n",
    "\n",
    "\n"
   ]
  },
  {
   "cell_type": "code",
   "execution_count": 17,
   "metadata": {},
   "outputs": [],
   "source": [
    "df1 = pd.read_excel('audit.xlsx')\n",
    "\n",
    "df1['Accper'] = df1['Accper'].astype(str).str[:4]\n",
    "df1 = df1.drop_duplicates(subset=['StockId', 'Accper'])\n",
    "df1[df1['Accper'].str.endswith('-12-31')]\n",
    "df1['StockId']=df1['StockId'].astype(str).str.zfill(6)\n",
    "\n",
    "\n",
    "\n",
    "df1.to_excel('./output/audit.xlsx', index=False)\n",
    "\n"
   ]
  },
  {
   "cell_type": "code",
   "execution_count": 11,
   "metadata": {},
   "outputs": [],
   "source": [
    "import pandas as pd\n",
    "def join_without_duplication(x):\n",
    "    return ', '.join(set(x))\n",
    "\n",
    "\n",
    "df2 = pd.read_excel('regroup.xlsx')\n",
    "df2['Accper'] = df2['Accper'].astype(str).str[:4]\n",
    "df2['RegroupType']=df2.groupby(['Accper', 'StockId'])['RestructuringType'].transform(join_without_duplication)\n",
    "df2 = df2.drop_duplicates(subset=['Accper', 'StockId'])\n",
    "df2=df2.dropna(subset=['StockId'])\n",
    "df2['StockId']=df2['StockId'].astype(int).astype(str).str.zfill(6)\n",
    "df2.to_excel('./output/r.xlsx', index=False)"
   ]
  },
  {
   "cell_type": "code",
   "execution_count": 6,
   "metadata": {},
   "outputs": [],
   "source": [
    "df = pd.read_excel('./output/manager.xlsx')\n",
    "df['StockId'] = df['StockId'].astype(str).str.zfill(6)\n",
    "df.to_excel('./output/m.xlsx', index=False)"
   ]
  }
 ],
 "metadata": {
  "kernelspec": {
   "display_name": "misa-code",
   "language": "python",
   "name": "python3"
  },
  "language_info": {
   "codemirror_mode": {
    "name": "ipython",
    "version": 3
   },
   "file_extension": ".py",
   "mimetype": "text/x-python",
   "name": "python",
   "nbconvert_exporter": "python",
   "pygments_lexer": "ipython3",
   "version": "3.9.16"
  },
  "orig_nbformat": 4
 },
 "nbformat": 4,
 "nbformat_minor": 2
}
