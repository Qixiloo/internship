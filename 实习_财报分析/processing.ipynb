{
 "cells": [
  {
   "cell_type": "code",
   "execution_count": null,
   "metadata": {},
   "outputs": [],
   "source": [
    "import pandas as pd\n",
    "import numpy as np\n",
    "import matplotlib.pyplot as plt\n",
    "from model import *\n",
    "from select_factor import *\n",
    "from sampler import *\n",
    "\n",
    "\n",
    "\n"
   ]
  },
  {
   "cell_type": "code",
   "execution_count": null,
   "metadata": {},
   "outputs": [],
   "source": [
    "X= pd.read_csv('data/data.csv')\n",
    "y= pd.read_csv('data/labels.csv')\n",
    "\n",
    "X['aduittype'] = X['aduittype'].replace({1: 0, 2: 0, 3: 0, 4: 1, 5: 1, 6: 1, 7: 1})\n",
    "\n",
    "\n",
    "\n",
    "\n",
    "\n",
    "\n",
    "#RandomForest(X_train, y_train,X_test,y_test)\n",
    "#DecisionTree(X_train, y_train,X_test,y_test)\n",
    "#Logistic(X_train, y_train,X_test,y_test)\n",
    "#SVM(X_train, y_train,X_test,y_test)\n"
   ]
  },
  {
   "cell_type": "code",
   "execution_count": null,
   "metadata": {},
   "outputs": [],
   "source": [
    "group = X['Indcd'].value_counts()\n",
    "indcd_mapping = {indcd: rank for rank, indcd in enumerate(group.index, 1)}\n",
    "\n",
    "# Map the 'Indcd' column to the corresponding rank\n",
    "X['Indcd'] = X['Indcd'].map(indcd_mapping)\n",
    "\n",
    "X['Indcd'].value_counts()\n"
   ]
  },
  {
   "cell_type": "code",
   "execution_count": null,
   "metadata": {},
   "outputs": [],
   "source": [
    "X=X.iloc[:,1:].drop(['Stocktype'],axis=1)\n",
    "y=y.iloc[:,1:]"
   ]
  },
  {
   "cell_type": "code",
   "execution_count": null,
   "metadata": {},
   "outputs": [],
   "source": [
    "y"
   ]
  },
  {
   "cell_type": "code",
   "execution_count": null,
   "metadata": {},
   "outputs": [],
   "source": [
    "X.shape[1]"
   ]
  },
  {
   "cell_type": "code",
   "execution_count": null,
   "metadata": {},
   "outputs": [],
   "source": [
    "\n",
    "data= select_1(X,y)\n",
    "\n",
    "\n"
   ]
  },
  {
   "cell_type": "code",
   "execution_count": 23,
   "metadata": {},
   "outputs": [],
   "source": [
    "X=X.fillna(0)\n",
    "data=select_2(X,y)"
   ]
  },
  {
   "cell_type": "code",
   "execution_count": null,
   "metadata": {},
   "outputs": [],
   "source": [
    "data=data.fillna(0)"
   ]
  },
  {
   "cell_type": "code",
   "execution_count": null,
   "metadata": {},
   "outputs": [],
   "source": [
    "data.to_csv('data/X.csv',index=False)\n",
    "y.to_csv('data/y.csv',index=False)"
   ]
  }
 ],
 "metadata": {
  "kernelspec": {
   "display_name": "inter36-env",
   "language": "python",
   "name": "python3"
  },
  "language_info": {
   "codemirror_mode": {
    "name": "ipython",
    "version": 3
   },
   "file_extension": ".py",
   "mimetype": "text/x-python",
   "name": "python",
   "nbconvert_exporter": "python",
   "pygments_lexer": "ipython3",
   "version": "3.9.16"
  },
  "orig_nbformat": 4
 },
 "nbformat": 4,
 "nbformat_minor": 2
}
